{
 "cells": [
  {
   "cell_type": "markdown",
   "metadata": {},
   "source": [
    "# Proyecto: Identificación de hongos en una muestra ambiental mediante herramientas genómicas"
   ]
  },
  {
   "cell_type": "code",
   "execution_count": 5,
   "metadata": {},
   "outputs": [
    {
     "name": "stdout",
     "output_type": "stream",
     "text": [
      "<_io.TextIOWrapper name='.\\\\Secuencias\\\\Fungi\\\\Prueba' mode='r' encoding='cp1252'>\n"
     ]
    }
   ],
   "source": [
    "dir_seq = '.\\Secuencias\\Fungi\\Prueba'\n",
    "#input('Ingrese dirección de una secuencia: ')\n",
    "seq = open(dir_seq, 'r')\n",
    "print(seq)"
   ]
  },
  {
   "cell_type": "markdown",
   "metadata": {},
   "source": [
    "Leemos la secuencia"
   ]
  },
  {
   "cell_type": "code",
   "execution_count": 2,
   "metadata": {},
   "outputs": [
    {
     "name": "stdout",
     "output_type": "stream",
     "text": [
      "29\n"
     ]
    }
   ],
   "source": [
    "encabezado = ''\n",
    "secuencias = {}\n",
    "for linea in seq:\n",
    "    if linea[0] == '>':\n",
    "        encabezado = linea.strip().replace('>', '')\n",
    "    else:\n",
    "        if encabezado not in secuencias:\n",
    "            secuencias[encabezado] = ''\n",
    "        secuencias[encabezado] += linea.strip()\n",
    "seq.close()\n",
    "\n",
    "print(len(secuencias))\n"
   ]
  },
  {
   "cell_type": "markdown",
   "metadata": {},
   "source": [
    "Marcadores ITS para Fungi"
   ]
  },
  {
   "cell_type": "code",
   "execution_count": 3,
   "metadata": {},
   "outputs": [],
   "source": [
    "marcadores = {}\n",
    "\n",
    "def guarda_marcador(marcador_file):\n",
    "    for linea in marcador_file:\n",
    "        if linea[0] == '>':\n",
    "            encabezado = linea.strip().replace('>', '')\n",
    "        else:\n",
    "            if encabezado not in marcadores:\n",
    "                marcadores[encabezado] = ''\n",
    "            marcadores[encabezado] += linea.strip().replace('-', '')\n",
    "                \n",
    "\n",
    "# Basidiomycota\n",
    "marcador_file = open('.\\Marcadores\\ITS Reino Fungi\\ITS_Basidiomycota.fas', 'r')\n",
    "guarda_marcador(marcador_file)\n",
    "marcador_file.close()\n",
    "\n",
    "# Chytridiomycota\n",
    "marcador_file = open('.\\Marcadores\\ITS Reino Fungi\\ITS_Chytridiomycota.fas', 'r')\n",
    "guarda_marcador(marcador_file)\n",
    "marcador_file.close()\n",
    "\n",
    "# Zygomycota\n",
    "marcador_file = open('.\\Marcadores\\ITS Reino Fungi\\ITS_Zygomycota.fas', 'r')\n",
    "guarda_marcador(marcador_file)\n",
    "marcador_file.close()\n",
    "\n",
    "# Ascomycota\n",
    "marcador_file = open('.\\Marcadores\\ITS Reino Fungi\\ITS1-2_Ascomycota.fas', 'r')\n",
    "guarda_marcador(marcador_file)\n",
    "marcador_file.close()"
   ]
  },
  {
   "cell_type": "markdown",
   "metadata": {},
   "source": [
    "Buscamos marcadores en la secuencia"
   ]
  },
  {
   "cell_type": "code",
   "execution_count": 4,
   "metadata": {},
   "outputs": [
    {
     "name": "stdout",
     "output_type": "stream",
     "text": [
      "Encontre marcador ABCBF333-16|Ascomycota|ITS|KY441712 en secuencia PHFN01000017.1 Alternaria brassicicola strain Abra43 tig00000022_pilon, whole genome shotgun sequence: 15475\n"
     ]
    }
   ],
   "source": [
    "for keys in secuencias:\n",
    "    seq = secuencias[keys]\n",
    "    for llave in marcadores:\n",
    "        marc = marcadores[llave]\n",
    "        b = seq.find(marc)\n",
    "        if b > -1:\n",
    "            print(f'Encontre marcador {llave} en secuencia {keys}: {b}')\n",
    "        else:\n",
    "            b = seq.find(marc.lower())\n",
    "            if b > -1:\n",
    "                print(f'Encontre marcador {llave} en secuencia {keys}: {b}')"
   ]
  }
 ],
 "metadata": {
  "interpreter": {
   "hash": "506d569f0b28ea103188d4d9f745b7b2b85d3e31dafde01bdf7899299ac0033b"
  },
  "kernelspec": {
   "display_name": "Python 3.9.7 ('base')",
   "language": "python",
   "name": "python3"
  },
  "language_info": {
   "codemirror_mode": {
    "name": "ipython",
    "version": 3
   },
   "file_extension": ".py",
   "mimetype": "text/x-python",
   "name": "python",
   "nbconvert_exporter": "python",
   "pygments_lexer": "ipython3",
   "version": "3.9.7"
  },
  "orig_nbformat": 4
 },
 "nbformat": 4,
 "nbformat_minor": 2
}
